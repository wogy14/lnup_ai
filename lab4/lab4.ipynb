{
 "cells": [
  {
   "cell_type": "markdown",
   "id": "ab6335ee",
   "metadata": {},
   "source": [
    "## 1. Створити список N максимальних (Kmax) або мінімальних(Kmin) елементів колекції."
   ]
  },
  {
   "cell_type": "code",
   "execution_count": 1,
   "id": "9f11ce3e",
   "metadata": {},
   "outputs": [
    {
     "data": {
      "text/plain": [
       "([12, 52], [-8, -3, 2, 5])"
      ]
     },
     "execution_count": 1,
     "metadata": {},
     "output_type": "execute_result"
    }
   ],
   "source": [
    "N = [6, 9, 10, 2, -8, -3, 9, 5, 7, 12, 8, 52]\n",
    "Kmax = 2\n",
    "Kmin = 4\n",
    "\n",
    "N.sort()\n",
    "\n",
    "maxList = N[-Kmax:]\n",
    "minList = N[:Kmin]\n",
    "\n",
    "maxList, minList"
   ]
  },
  {
   "cell_type": "markdown",
   "id": "2ec1050e",
   "metadata": {},
   "source": [
    "## 2. Об'єднати багато невеликих рядків в довгий рядок."
   ]
  },
  {
   "cell_type": "code",
   "execution_count": 2,
   "id": "c3ac6364",
   "metadata": {},
   "outputs": [
    {
     "data": {
      "text/plain": [
       "'Сім погод на дворі : сіє , віє , мутить , крутить , рве , зверху ллє , знизу мете .'"
      ]
     },
     "execution_count": 2,
     "metadata": {},
     "output_type": "execute_result"
    }
   ],
   "source": [
    "rows = ['Сім', 'погод', 'на', 'дворі',':', 'сіє', ',', 'віє', ',','мутить', ',', 'крутить', ',','рве', ',', 'зверху', 'ллє', ',','знизу', 'мете', '.']\n",
    "result = \" \".join(rows)\n",
    "result"
   ]
  },
  {
   "cell_type": "markdown",
   "id": "3362320e",
   "metadata": {},
   "source": [
    "## 3. Операції з матрицями:"
   ]
  },
  {
   "cell_type": "code",
   "execution_count": 3,
   "id": "8e2dc8ce",
   "metadata": {
    "scrolled": true
   },
   "outputs": [
    {
     "data": {
      "text/plain": [
       "(array([[ 5, -2,  6],\n",
       "        [ 5,  3,  2],\n",
       "        [ 4, 10, -1]]),\n",
       " array([[4],\n",
       "        [3],\n",
       "        [5]]))"
      ]
     },
     "execution_count": 3,
     "metadata": {},
     "output_type": "execute_result"
    }
   ],
   "source": [
    "import numpy as np\n",
    "\n",
    "M = np.array([[5, -2, 6],[5, 3, 2],[4, 10, -1]])\n",
    "v = np.array([[4],[3],[5]])\n",
    "\n",
    "M, v"
   ]
  },
  {
   "cell_type": "markdown",
   "id": "ef82073f",
   "metadata": {},
   "source": [
    "- транспортувати M"
   ]
  },
  {
   "cell_type": "code",
   "execution_count": 4,
   "id": "db4b95ca",
   "metadata": {},
   "outputs": [
    {
     "data": {
      "text/plain": [
       "array([[ 5,  5,  4],\n",
       "       [-2,  3, 10],\n",
       "       [ 6,  2, -1]])"
      ]
     },
     "execution_count": 4,
     "metadata": {},
     "output_type": "execute_result"
    }
   ],
   "source": [
    "Mt = M.transpose()\n",
    "Mt"
   ]
  },
  {
   "cell_type": "markdown",
   "id": "29d6f92e",
   "metadata": {},
   "source": [
    "- M*MT=T"
   ]
  },
  {
   "cell_type": "code",
   "execution_count": 5,
   "id": "6604bb84",
   "metadata": {},
   "outputs": [
    {
     "data": {
      "text/plain": [
       "array([[ 25, -10,  24],\n",
       "       [-10,   9,  20],\n",
       "       [ 24,  20,   1]])"
      ]
     },
     "execution_count": 5,
     "metadata": {},
     "output_type": "execute_result"
    }
   ],
   "source": [
    "T = M * Mt\n",
    "T"
   ]
  },
  {
   "cell_type": "markdown",
   "id": "57b12804",
   "metadata": {},
   "source": [
    "- інфвертувати T"
   ]
  },
  {
   "cell_type": "code",
   "execution_count": 6,
   "id": "2af6c2c8",
   "metadata": {},
   "outputs": [
    {
     "data": {
      "text/plain": [
       "matrix([[ 0.01585628, -0.01987104,  0.01687011],\n",
       "        [-0.01987104,  0.02234478,  0.03000933],\n",
       "        [ 0.01687011,  0.03000933, -0.00506914]])"
      ]
     },
     "execution_count": 6,
     "metadata": {},
     "output_type": "execute_result"
    }
   ],
   "source": [
    "np.matrix(T).I"
   ]
  },
  {
   "cell_type": "markdown",
   "id": "a7f3a4dc",
   "metadata": {},
   "source": [
    "- T*v (вектор)"
   ]
  },
  {
   "cell_type": "code",
   "execution_count": 7,
   "id": "7725a41e",
   "metadata": {},
   "outputs": [
    {
     "data": {
      "text/plain": [
       "array([[100, -40,  96],\n",
       "       [-30,  27,  60],\n",
       "       [120, 100,   5]])"
      ]
     },
     "execution_count": 7,
     "metadata": {},
     "output_type": "execute_result"
    }
   ],
   "source": [
    "T * v"
   ]
  },
  {
   "cell_type": "markdown",
   "id": "ff965fbc",
   "metadata": {},
   "source": [
    "## 4. До дати (date) додайте d днів та виведіть"
   ]
  },
  {
   "cell_type": "code",
   "execution_count": 8,
   "id": "fc2c7cc4",
   "metadata": {},
   "outputs": [
    {
     "data": {
      "text/plain": [
       "'06/01/2020'"
      ]
     },
     "execution_count": 8,
     "metadata": {},
     "output_type": "execute_result"
    }
   ],
   "source": [
    "import datetime\n",
    "\n",
    "date = \"02/12/2019\"\n",
    "d = 35\n",
    "\n",
    "dateObj = datetime.datetime.strptime(date, \"%d/%m/%Y\")\n",
    "dateRes = dateObj + datetime.timedelta(days=d)\n",
    "dateRes.strftime(\"%d/%m/%Y\")"
   ]
  },
  {
   "cell_type": "markdown",
   "id": "b142b07f",
   "metadata": {},
   "source": [
    "## 5. Провести парсинг RSS-каналу"
   ]
  },
  {
   "cell_type": "code",
   "execution_count": 9,
   "id": "8c3fb561",
   "metadata": {},
   "outputs": [
    {
     "name": "stdout",
     "output_type": "stream",
     "text": [
      "\u001b[33mDEPRECATION: Configuring installation scheme with distutils config files is deprecated and will no longer work in the near future. If you are using a Homebrew or Linuxbrew Python, please see discussion at https://github.com/Homebrew/homebrew-core/issues/76621\u001b[0m\u001b[33m\n",
      "\u001b[0mRequirement already satisfied: feedparser in /usr/local/lib/python3.9/site-packages (6.0.10)\n",
      "Requirement already satisfied: sgmllib3k in /usr/local/lib/python3.9/site-packages (from feedparser) (1.0.0)\n",
      "\u001b[33mDEPRECATION: Configuring installation scheme with distutils config files is deprecated and will no longer work in the near future. If you are using a Homebrew or Linuxbrew Python, please see discussion at https://github.com/Homebrew/homebrew-core/issues/76621\u001b[0m\u001b[33m\n",
      "\u001b[0m\u001b[33mWARNING: There was an error checking the latest version of pip.\u001b[0m\u001b[33m\n",
      "\u001b[0m"
     ]
    }
   ],
   "source": [
    "!pip3 install feedparser"
   ]
  },
  {
   "cell_type": "code",
   "execution_count": 10,
   "id": "d25c6e2d",
   "metadata": {},
   "outputs": [
    {
     "data": {
      "text/plain": [
       "{'bozo': False,\n",
       " 'entries': [{'title': 'Украинская компания сделала чат-бот, который поможет запланировать пост в FB после смерти',\n",
       "   'title_detail': {'type': 'text/plain',\n",
       "    'language': None,\n",
       "    'base': 'https://www.liga.net/tech/all/rss.xml',\n",
       "    'value': 'Украинская компания сделала чат-бот, который поможет запланировать пост в FB после смерти'},\n",
       "   'links': [{'rel': 'alternate',\n",
       "     'type': 'text/html',\n",
       "     'href': 'https://tech.liga.net/technology/novosti/ukrainskaya-kompaniya-sdelala-chat-bot-kotoryy-pomojet-zaplanirovat-post-v-facebook-posle-s'},\n",
       "    {'length': '14090',\n",
       "     'type': 'image/jpg',\n",
       "     'href': 'https://www.liga.net/images/general/2019/08/14/thumbnail-h-20190814101518-5867.jpg',\n",
       "     'rel': 'enclosure'}],\n",
       "   'link': 'https://tech.liga.net/technology/novosti/ukrainskaya-kompaniya-sdelala-chat-bot-kotoryy-pomojet-zaplanirovat-post-v-facebook-posle-s',\n",
       "   'summary': 'Публикация появится после смерти и будет содержать призыв к пожертвованию на благотворительность.',\n",
       "   'summary_detail': {'type': 'text/html',\n",
       "    'language': None,\n",
       "    'base': 'https://www.liga.net/tech/all/rss.xml',\n",
       "    'value': 'Публикация появится после смерти и будет содержать призыв к пожертвованию на благотворительность.'},\n",
       "   'published': 'Mon, 07 Nov 2022 17:20:17 +0200',\n",
       "   'published_parsed': time.struct_time(tm_year=2022, tm_mon=11, tm_mday=7, tm_hour=15, tm_min=20, tm_sec=17, tm_wday=0, tm_yday=311, tm_isdst=0),\n",
       "   'id': 'https://tech.liga.net/technology/novosti/ukrainskaya-kompaniya-sdelala-chat-bot-kotoryy-pomojet-zaplanirovat-post-v-facebook-posle-s',\n",
       "   'guidislink': False},\n",
       "  {'title': 'NASA показала готовую к старту лунную ракету для миссии Artemis 1 – фото',\n",
       "   'title_detail': {'type': 'text/plain',\n",
       "    'language': None,\n",
       "    'base': 'https://www.liga.net/tech/all/rss.xml',\n",
       "    'value': 'NASA показала готовую к старту лунную ракету для миссии Artemis 1 – фото'},\n",
       "   'links': [{'rel': 'alternate',\n",
       "     'type': 'text/html',\n",
       "     'href': 'https://tech.liga.net/technology/photo/nasa-pokazala-gotovuyu-k-startu-lunnuyu-raketu-dlya-missii-artemis-1-foto'},\n",
       "    {'length': '15846',\n",
       "     'type': 'image/jpg',\n",
       "     'href': 'https://www.liga.net/images/general/2022/11/07/thumbnail-h-20221107165846-8137.jpg',\n",
       "     'rel': 'enclosure'}],\n",
       "   'link': 'https://tech.liga.net/technology/photo/nasa-pokazala-gotovuyu-k-startu-lunnuyu-raketu-dlya-missii-artemis-1-foto',\n",
       "   'summary': 'Запуск ракеты SLS с кораблем Orion к Луне запланирован на 14 ноября',\n",
       "   'summary_detail': {'type': 'text/html',\n",
       "    'language': None,\n",
       "    'base': 'https://www.liga.net/tech/all/rss.xml',\n",
       "    'value': 'Запуск ракеты SLS с кораблем Orion к Луне запланирован на 14 ноября'},\n",
       "   'published': 'Mon, 07 Nov 2022 17:03:39 +0200',\n",
       "   'published_parsed': time.struct_time(tm_year=2022, tm_mon=11, tm_mday=7, tm_hour=15, tm_min=3, tm_sec=39, tm_wday=0, tm_yday=311, tm_isdst=0),\n",
       "   'id': 'https://tech.liga.net/technology/photo/nasa-pokazala-gotovuyu-k-startu-lunnuyu-raketu-dlya-missii-artemis-1-foto',\n",
       "   'guidislink': False},\n",
       "  {'title': 'Телескоп \"Джеймс Уэбб\" будет искать внеземную жизнь на планетах, похожих на Землю',\n",
       "   'title_detail': {'type': 'text/plain',\n",
       "    'language': None,\n",
       "    'base': 'https://www.liga.net/tech/all/rss.xml',\n",
       "    'value': 'Телескоп \"Джеймс Уэбб\" будет искать внеземную жизнь на планетах, похожих на Землю'},\n",
       "   'links': [{'rel': 'alternate',\n",
       "     'type': 'text/html',\n",
       "     'href': 'https://tech.liga.net/technology/novosti/teleskop-djeyms-uebb-budet-iskat-vnezemnuyu-jizn-na-planetah-pohojih-na-zemlyu'},\n",
       "    {'length': '4070',\n",
       "     'type': 'image/jpg',\n",
       "     'href': 'https://www.liga.net/images/general/2022/08/25/thumbnail-h-20220825223644-4814.jpg',\n",
       "     'rel': 'enclosure'}],\n",
       "   'link': 'https://tech.liga.net/technology/novosti/teleskop-djeyms-uebb-budet-iskat-vnezemnuyu-jizn-na-planetah-pohojih-na-zemlyu',\n",
       "   'summary': 'Астрономы проанализировали удаленную землеподобную планету TRAPPIST-1e, чтобы разработать схему поиска подходящих для жизни планет',\n",
       "   'summary_detail': {'type': 'text/html',\n",
       "    'language': None,\n",
       "    'base': 'https://www.liga.net/tech/all/rss.xml',\n",
       "    'value': 'Астрономы проанализировали удаленную землеподобную планету TRAPPIST-1e, чтобы разработать схему поиска подходящих для жизни планет'},\n",
       "   'published': 'Mon, 07 Nov 2022 16:18:20 +0200',\n",
       "   'published_parsed': time.struct_time(tm_year=2022, tm_mon=11, tm_mday=7, tm_hour=14, tm_min=18, tm_sec=20, tm_wday=0, tm_yday=311, tm_isdst=0),\n",
       "   'id': 'https://tech.liga.net/technology/novosti/teleskop-djeyms-uebb-budet-iskat-vnezemnuyu-jizn-na-planetah-pohojih-na-zemlyu',\n",
       "   'guidislink': False},\n",
       "  {'title': 'Twitter откладывает подорожание после увольнений и жалоб – помогли угрозы активистов',\n",
       "   'title_detail': {'type': 'text/plain',\n",
       "    'language': None,\n",
       "    'base': 'https://www.liga.net/tech/all/rss.xml',\n",
       "    'value': 'Twitter откладывает подорожание после увольнений и жалоб – помогли угрозы активистов'},\n",
       "   'links': [{'rel': 'alternate',\n",
       "     'type': 'text/html',\n",
       "     'href': 'https://tech.liga.net/other/article/twitter-otkladyvaet-podorojanie-posle-uvolneniy-i-jalob-kak-pomogli-ugrozy-aktivistov'},\n",
       "    {'length': '7050',\n",
       "     'type': 'image/jpg',\n",
       "     'href': 'https://www.liga.net/images/general/2022/11/07/thumbnail-h-20221107140120-2243.jpg',\n",
       "     'rel': 'enclosure'}],\n",
       "   'link': 'https://tech.liga.net/other/article/twitter-otkladyvaet-podorojanie-posle-uvolneniy-i-jalob-kak-pomogli-ugrozy-aktivistov',\n",
       "   'summary': 'Собрали главное, что произошло с Twiiter после угроз активистов',\n",
       "   'summary_detail': {'type': 'text/html',\n",
       "    'language': None,\n",
       "    'base': 'https://www.liga.net/tech/all/rss.xml',\n",
       "    'value': 'Собрали главное, что произошло с Twiiter после угроз активистов'},\n",
       "   'published': 'Mon, 07 Nov 2022 15:00:44 +0200',\n",
       "   'published_parsed': time.struct_time(tm_year=2022, tm_mon=11, tm_mday=7, tm_hour=13, tm_min=0, tm_sec=44, tm_wday=0, tm_yday=311, tm_isdst=0),\n",
       "   'id': 'https://tech.liga.net/other/article/twitter-otkladyvaet-podorojanie-posle-uvolneniy-i-jalob-kak-pomogli-ugrozy-aktivistov',\n",
       "   'guidislink': False},\n",
       "  {'title': 'В космос запустили ракету Antares с украинскими компонентами – видео',\n",
       "   'title_detail': {'type': 'text/plain',\n",
       "    'language': None,\n",
       "    'base': 'https://www.liga.net/tech/all/rss.xml',\n",
       "    'value': 'В космос запустили ракету Antares с украинскими компонентами – видео'},\n",
       "   'links': [{'rel': 'alternate',\n",
       "     'type': 'text/html',\n",
       "     'href': 'https://tech.liga.net/technology/novosti/v-kosmos-zapustili-raketu-antares-s-ukrainskimi-komponentami-video'},\n",
       "    {'length': '4595',\n",
       "     'type': 'image/jpg',\n",
       "     'href': 'https://www.liga.net/images/general/2022/11/07/thumbnail-h-20221107142120-8322.jpg',\n",
       "     'rel': 'enclosure'}],\n",
       "   'link': 'https://tech.liga.net/technology/novosti/v-kosmos-zapustili-raketu-antares-s-ukrainskimi-komponentami-video',\n",
       "   'summary': 'Запуск 7 ноября стал первым полетом ракеты Antares после вторжения России, где используется украинская первая ступень',\n",
       "   'summary_detail': {'type': 'text/html',\n",
       "    'language': None,\n",
       "    'base': 'https://www.liga.net/tech/all/rss.xml',\n",
       "    'value': 'Запуск 7 ноября стал первым полетом ракеты Antares после вторжения России, где используется украинская первая ступень'},\n",
       "   'published': 'Mon, 07 Nov 2022 14:28:00 +0200',\n",
       "   'published_parsed': time.struct_time(tm_year=2022, tm_mon=11, tm_mday=7, tm_hour=12, tm_min=28, tm_sec=0, tm_wday=0, tm_yday=311, tm_isdst=0),\n",
       "   'id': 'https://tech.liga.net/technology/novosti/v-kosmos-zapustili-raketu-antares-s-ukrainskimi-komponentami-video',\n",
       "   'guidislink': False},\n",
       "  {'title': 'Покупателям Apple придется дольше ждать новых iPhone из-за COVID в Китае',\n",
       "   'title_detail': {'type': 'text/plain',\n",
       "    'language': None,\n",
       "    'base': 'https://www.liga.net/tech/all/rss.xml',\n",
       "    'value': 'Покупателям Apple придется дольше ждать новых iPhone из-за COVID в Китае'},\n",
       "   'links': [{'rel': 'alternate',\n",
       "     'type': 'text/html',\n",
       "     'href': 'https://tech.liga.net/gadgets/novosti/pokupatelyam-apple-pridetsya-dolshe-jdat-novyh-iphone-iz-za-covid-v-kitae'},\n",
       "    {'length': '6542',\n",
       "     'type': 'image/jpg',\n",
       "     'href': 'https://www.liga.net/images/general/2022/09/07/thumbnail-h-20220907205921-4711.jpg',\n",
       "     'rel': 'enclosure'}],\n",
       "   'link': 'https://tech.liga.net/gadgets/novosti/pokupatelyam-apple-pridetsya-dolshe-jdat-novyh-iphone-iz-za-covid-v-kitae',\n",
       "   'summary': 'Компания предупреждает, что ожидает меньше поставок iPhone 14 Pro и iPhone Pro Max',\n",
       "   'summary_detail': {'type': 'text/html',\n",
       "    'language': None,\n",
       "    'base': 'https://www.liga.net/tech/all/rss.xml',\n",
       "    'value': 'Компания предупреждает, что ожидает меньше поставок iPhone 14 Pro и iPhone Pro Max'},\n",
       "   'published': 'Mon, 07 Nov 2022 11:09:10 +0200',\n",
       "   'published_parsed': time.struct_time(tm_year=2022, tm_mon=11, tm_mday=7, tm_hour=9, tm_min=9, tm_sec=10, tm_wday=0, tm_yday=311, tm_isdst=0),\n",
       "   'id': 'https://tech.liga.net/gadgets/novosti/pokupatelyam-apple-pridetsya-dolshe-jdat-novyh-iphone-iz-za-covid-v-kitae',\n",
       "   'guidislink': False},\n",
       "  {'title': 'Netflix анонсировал ужасы по \"Очень странным делам\" в виртуальной реальности – видео',\n",
       "   'title_detail': {'type': 'text/plain',\n",
       "    'language': None,\n",
       "    'base': 'https://www.liga.net/tech/all/rss.xml',\n",
       "    'value': 'Netflix анонсировал ужасы по \"Очень странным делам\" в виртуальной реальности – видео'},\n",
       "   'links': [{'rel': 'alternate',\n",
       "     'type': 'text/html',\n",
       "     'href': 'https://tech.liga.net/other/novosti/netflix-anonsiroval-ujasy-po-ochen-strannym-delam-v-virtualnoy-realnosti-video'},\n",
       "    {'length': '11807',\n",
       "     'type': 'image/jpg',\n",
       "     'href': 'https://www.liga.net/images/general/2022/11/07/thumbnail-h-20221107103123-1814.jpg',\n",
       "     'rel': 'enclosure'}],\n",
       "   'link': 'https://tech.liga.net/other/novosti/netflix-anonsiroval-ujasy-po-ochen-strannym-delam-v-virtualnoy-realnosti-video',\n",
       "   'summary': 'Игра выйдет зимой 2023 года и будет доступна на всех основных платформах',\n",
       "   'summary_detail': {'type': 'text/html',\n",
       "    'language': None,\n",
       "    'base': 'https://www.liga.net/tech/all/rss.xml',\n",
       "    'value': 'Игра выйдет зимой 2023 года и будет доступна на всех основных платформах'},\n",
       "   'published': 'Mon, 07 Nov 2022 10:36:42 +0200',\n",
       "   'published_parsed': time.struct_time(tm_year=2022, tm_mon=11, tm_mday=7, tm_hour=8, tm_min=36, tm_sec=42, tm_wday=0, tm_yday=311, tm_isdst=0),\n",
       "   'id': 'https://tech.liga.net/other/novosti/netflix-anonsiroval-ujasy-po-ochen-strannym-delam-v-virtualnoy-realnosti-video',\n",
       "   'guidislink': False},\n",
       "  {'title': 'Ученые из Шотландии решили разработать новый протокол на случай контакта с пришельцами',\n",
       "   'title_detail': {'type': 'text/plain',\n",
       "    'language': None,\n",
       "    'base': 'https://www.liga.net/tech/all/rss.xml',\n",
       "    'value': 'Ученые из Шотландии решили разработать новый протокол на случай контакта с пришельцами'},\n",
       "   'links': [{'rel': 'alternate',\n",
       "     'type': 'text/html',\n",
       "     'href': 'https://tech.liga.net/other/novosti/uchenye-iz-shotlandii-reshili-razrabotat-novyy-protokol-na-sluchay-kontakta-s-prisheltsami'},\n",
       "    {'length': '8560',\n",
       "     'type': 'image/jpg',\n",
       "     'href': 'https://www.liga.net/images/general/2022/11/07/thumbnail-h-20221107073659-2243.jpg',\n",
       "     'rel': 'enclosure'}],\n",
       "   'link': 'https://tech.liga.net/other/novosti/uchenye-iz-shotlandii-reshili-razrabotat-novyy-protokol-na-sluchay-kontakta-s-prisheltsami',\n",
       "   'summary': 'В университете в Шотландии создали SETI Detection Hub, который разработает соответствующий документ',\n",
       "   'summary_detail': {'type': 'text/html',\n",
       "    'language': None,\n",
       "    'base': 'https://www.liga.net/tech/all/rss.xml',\n",
       "    'value': 'В университете в Шотландии создали SETI Detection Hub, который разработает соответствующий документ'},\n",
       "   'published': 'Mon, 07 Nov 2022 07:39:20 +0200',\n",
       "   'published_parsed': time.struct_time(tm_year=2022, tm_mon=11, tm_mday=7, tm_hour=5, tm_min=39, tm_sec=20, tm_wday=0, tm_yday=311, tm_isdst=0),\n",
       "   'id': 'https://tech.liga.net/other/novosti/uchenye-iz-shotlandii-reshili-razrabotat-novyy-protokol-na-sluchay-kontakta-s-prisheltsami',\n",
       "   'guidislink': False},\n",
       "  {'title': 'Meta проведет массовое сокращение на фоне увольнений в Twitter – The Wall Street Journal',\n",
       "   'title_detail': {'type': 'text/plain',\n",
       "    'language': None,\n",
       "    'base': 'https://www.liga.net/tech/all/rss.xml',\n",
       "    'value': 'Meta проведет массовое сокращение на фоне увольнений в Twitter – The Wall Street Journal'},\n",
       "   'links': [{'rel': 'alternate',\n",
       "     'type': 'text/html',\n",
       "     'href': 'https://tech.liga.net/other/novosti/meta-provedet-massovoe-sokraschenie-na-fone-uvolneniy-v-twitter-the-wall-street-journal'},\n",
       "    {'length': '14745',\n",
       "     'type': 'image/jpg',\n",
       "     'href': 'https://www.liga.net/images/general/2022/02/03/thumbnail-h-20220203092811-4463.jpg',\n",
       "     'rel': 'enclosure'}],\n",
       "   'link': 'https://tech.liga.net/other/novosti/meta-provedet-massovoe-sokraschenie-na-fone-uvolneniy-v-twitter-the-wall-street-journal',\n",
       "   'summary': 'Сейчас в Meta работает более 87 000 сотрудников',\n",
       "   'summary_detail': {'type': 'text/html',\n",
       "    'language': None,\n",
       "    'base': 'https://www.liga.net/tech/all/rss.xml',\n",
       "    'value': 'Сейчас в Meta работает более 87 000 сотрудников'},\n",
       "   'published': 'Mon, 07 Nov 2022 07:27:00 +0200',\n",
       "   'published_parsed': time.struct_time(tm_year=2022, tm_mon=11, tm_mday=7, tm_hour=5, tm_min=27, tm_sec=0, tm_wday=0, tm_yday=311, tm_isdst=0),\n",
       "   'id': 'https://tech.liga.net/other/novosti/meta-provedet-massovoe-sokraschenie-na-fone-uvolneniy-v-twitter-the-wall-street-journal',\n",
       "   'guidislink': False},\n",
       "  {'title': 'Иран успешно запустил ракету-носитель Ghaem-100 для вывода спутников на орбиту – видео',\n",
       "   'title_detail': {'type': 'text/plain',\n",
       "    'language': None,\n",
       "    'base': 'https://www.liga.net/tech/all/rss.xml',\n",
       "    'value': 'Иран успешно запустил ракету-носитель Ghaem-100 для вывода спутников на орбиту – видео'},\n",
       "   'links': [{'rel': 'alternate',\n",
       "     'type': 'text/html',\n",
       "     'href': 'https://tech.liga.net/technology/novosti/iran-uspeshno-zapustil-raketu-nositel-ghaem-100-dlya-vyvoda-sputnikov-na-orbitu'},\n",
       "    {'length': '15800',\n",
       "     'type': 'image/jpg',\n",
       "     'href': 'https://www.liga.net/images/general/2022/11/06/thumbnail-h-20221106074735-5825.jpg',\n",
       "     'rel': 'enclosure'}],\n",
       "   'link': 'https://tech.liga.net/technology/novosti/iran-uspeshno-zapustil-raketu-nositel-ghaem-100-dlya-vyvoda-sputnikov-na-orbitu',\n",
       "   'summary': 'Новую ракету будут использовать для будущих запусков иранских спутников связи Nahid',\n",
       "   'summary_detail': {'type': 'text/html',\n",
       "    'language': None,\n",
       "    'base': 'https://www.liga.net/tech/all/rss.xml',\n",
       "    'value': 'Новую ракету будут использовать для будущих запусков иранских спутников связи Nahid'},\n",
       "   'published': 'Sun, 06 Nov 2022 07:50:29 +0200',\n",
       "   'published_parsed': time.struct_time(tm_year=2022, tm_mon=11, tm_mday=6, tm_hour=5, tm_min=50, tm_sec=29, tm_wday=6, tm_yday=310, tm_isdst=0),\n",
       "   'id': 'https://tech.liga.net/technology/novosti/iran-uspeshno-zapustil-raketu-nositel-ghaem-100-dlya-vyvoda-sputnikov-na-orbitu',\n",
       "   'guidislink': False},\n",
       "  {'title': 'Платформа HBO закрыла сериал \"Мир Дикого Запада\" после четырех сезонов',\n",
       "   'title_detail': {'type': 'text/plain',\n",
       "    'language': None,\n",
       "    'base': 'https://www.liga.net/tech/all/rss.xml',\n",
       "    'value': 'Платформа HBO закрыла сериал \"Мир Дикого Запада\" после четырех сезонов'},\n",
       "   'links': [{'rel': 'alternate',\n",
       "     'type': 'text/html',\n",
       "     'href': 'https://tech.liga.net/other/novosti/platforma-hbo-otmenila-serial-mir-dikogo-zapada-posle-chetyreh-sezonov'},\n",
       "    {'length': '12151',\n",
       "     'type': 'image/jpg',\n",
       "     'href': 'https://www.liga.net/images/general/2022/11/05/thumbnail-h-20221105170032-2024.jpg',\n",
       "     'rel': 'enclosure'}],\n",
       "   'link': 'https://tech.liga.net/other/novosti/platforma-hbo-otmenila-serial-mir-dikogo-zapada-posle-chetyreh-sezonov',\n",
       "   'summary': 'Количество зрителей сериала упало с 12 млн до 4 млн',\n",
       "   'summary_detail': {'type': 'text/html',\n",
       "    'language': None,\n",
       "    'base': 'https://www.liga.net/tech/all/rss.xml',\n",
       "    'value': 'Количество зрителей сериала упало с 12 млн до 4 млн'},\n",
       "   'published': 'Sat, 05 Nov 2022 17:03:00 +0200',\n",
       "   'published_parsed': time.struct_time(tm_year=2022, tm_mon=11, tm_mday=5, tm_hour=15, tm_min=3, tm_sec=0, tm_wday=5, tm_yday=309, tm_isdst=0),\n",
       "   'id': 'https://tech.liga.net/other/novosti/platforma-hbo-otmenila-serial-mir-dikogo-zapada-posle-chetyreh-sezonov',\n",
       "   'guidislink': False},\n",
       "  {'title': 'В Пентагоне рассказали, что большинство НЛО – это китайские дроны и воздушные шары',\n",
       "   'title_detail': {'type': 'text/plain',\n",
       "    'language': None,\n",
       "    'base': 'https://www.liga.net/tech/all/rss.xml',\n",
       "    'value': 'В Пентагоне рассказали, что большинство НЛО – это китайские дроны и воздушные шары'},\n",
       "   'links': [{'rel': 'alternate',\n",
       "     'type': 'text/html',\n",
       "     'href': 'https://tech.liga.net/technology/novosti/v-pentagone-rasskazali-chto-bolshinstvo-nlo-eto-kitayskie-drony-i-vozdushnye-shary'},\n",
       "    {'length': '6245',\n",
       "     'type': 'image/jpg',\n",
       "     'href': 'https://www.liga.net/images/general/2022/11/05/thumbnail-h-20221105082530-5347.jpg',\n",
       "     'rel': 'enclosure'}],\n",
       "   'link': 'https://tech.liga.net/technology/novosti/v-pentagone-rasskazali-chto-bolshinstvo-nlo-eto-kitayskie-drony-i-vozdushnye-shary',\n",
       "   'summary': 'В исследовании НЛО, проведенном правительством США, \"главными нарушителями\" за последнее десятилетие оказались китайские объекты и воздушные шары',\n",
       "   'summary_detail': {'type': 'text/html',\n",
       "    'language': None,\n",
       "    'base': 'https://www.liga.net/tech/all/rss.xml',\n",
       "    'value': 'В исследовании НЛО, проведенном правительством США, \"главными нарушителями\" за последнее десятилетие оказались китайские объекты и воздушные шары'},\n",
       "   'published': 'Sat, 05 Nov 2022 08:26:29 +0200',\n",
       "   'published_parsed': time.struct_time(tm_year=2022, tm_mon=11, tm_mday=5, tm_hour=6, tm_min=26, tm_sec=29, tm_wday=5, tm_yday=309, tm_isdst=0),\n",
       "   'id': 'https://tech.liga.net/technology/novosti/v-pentagone-rasskazali-chto-bolshinstvo-nlo-eto-kitayskie-drony-i-vozdushnye-shary',\n",
       "   'guidislink': False},\n",
       "  {'title': 'Обломки китайской ракеты \"Чанчжэн-5Б\" упали в Тихий океан',\n",
       "   'title_detail': {'type': 'text/plain',\n",
       "    'language': None,\n",
       "    'base': 'https://www.liga.net/tech/all/rss.xml',\n",
       "    'value': 'Обломки китайской ракеты \"Чанчжэн-5Б\" упали в Тихий океан'},\n",
       "   'links': [{'rel': 'alternate',\n",
       "     'type': 'text/html',\n",
       "     'href': 'https://tech.liga.net/other/novosti/oblomki-kitayskoy-rakety-chanchjen-5b-upali-v-tihiy-okean'},\n",
       "    {'length': '7943',\n",
       "     'type': 'image/jpg',\n",
       "     'href': 'https://www.liga.net/images/general/2021/04/06/thumbnail-h-20210406141853-2544.jpg',\n",
       "     'rel': 'enclosure'}],\n",
       "   'link': 'https://tech.liga.net/other/novosti/oblomki-kitayskoy-rakety-chanchjen-5b-upali-v-tihiy-okean',\n",
       "   'summary': 'По данным Космического командования США, обломки не нанесли вреда ни одному объекту',\n",
       "   'summary_detail': {'type': 'text/html',\n",
       "    'language': None,\n",
       "    'base': 'https://www.liga.net/tech/all/rss.xml',\n",
       "    'value': 'По данным Космического командования США, обломки не нанесли вреда ни одному объекту'},\n",
       "   'published': 'Sat, 05 Nov 2022 07:46:41 +0200',\n",
       "   'published_parsed': time.struct_time(tm_year=2022, tm_mon=11, tm_mday=5, tm_hour=5, tm_min=46, tm_sec=41, tm_wday=5, tm_yday=309, tm_isdst=0),\n",
       "   'id': 'https://tech.liga.net/other/novosti/oblomki-kitayskoy-rakety-chanchjen-5b-upali-v-tihiy-okean',\n",
       "   'guidislink': False},\n",
       "  {'title': 'NASA доставила лунную ракету на стартовую площадку космодрома Кеннеди – фото',\n",
       "   'title_detail': {'type': 'text/plain',\n",
       "    'language': None,\n",
       "    'base': 'https://www.liga.net/tech/all/rss.xml',\n",
       "    'value': 'NASA доставила лунную ракету на стартовую площадку космодрома Кеннеди – фото'},\n",
       "   'links': [{'rel': 'alternate',\n",
       "     'type': 'text/html',\n",
       "     'href': 'https://tech.liga.net/technology/photo/nasa-dostavila-lunnuyu-raketu-na-startovuyu-ploschadku-kosmodroma-kennedi-foto'},\n",
       "    {'length': '7798',\n",
       "     'type': 'image/jpg',\n",
       "     'href': 'https://www.liga.net/images/general/2022/11/04/thumbnail-h-20221104183716-5992.jpg',\n",
       "     'rel': 'enclosure'}],\n",
       "   'link': 'https://tech.liga.net/technology/photo/nasa-dostavila-lunnuyu-raketu-na-startovuyu-ploschadku-kosmodroma-kennedi-foto',\n",
       "   'summary': 'Запуск ракеты SLS с кораблем Orion к Луне запланирован на 14 ноября',\n",
       "   'summary_detail': {'type': 'text/html',\n",
       "    'language': None,\n",
       "    'base': 'https://www.liga.net/tech/all/rss.xml',\n",
       "    'value': 'Запуск ракеты SLS с кораблем Orion к Луне запланирован на 14 ноября'},\n",
       "   'published': 'Fri, 04 Nov 2022 18:42:39 +0200',\n",
       "   'published_parsed': time.struct_time(tm_year=2022, tm_mon=11, tm_mday=4, tm_hour=16, tm_min=42, tm_sec=39, tm_wday=4, tm_yday=308, tm_isdst=0),\n",
       "   'id': 'https://tech.liga.net/technology/photo/nasa-dostavila-lunnuyu-raketu-na-startovuyu-ploschadku-kosmodroma-kennedi-foto',\n",
       "   'guidislink': False},\n",
       "  {'title': 'Дипломы и школьные аттестаты появятся в приложении \"Дия\"',\n",
       "   'title_detail': {'type': 'text/plain',\n",
       "    'language': None,\n",
       "    'base': 'https://www.liga.net/tech/all/rss.xml',\n",
       "    'value': 'Дипломы и школьные аттестаты появятся в приложении \"Дия\"'},\n",
       "   'links': [{'rel': 'alternate',\n",
       "     'type': 'text/html',\n",
       "     'href': 'https://tech.liga.net/ukraine/novosti/diplomy-i-shkolnye-attestaty-poyavyatsya-v-prilojenii-diya'},\n",
       "    {'length': '11485',\n",
       "     'type': 'image/jpg',\n",
       "     'href': 'https://www.liga.net/images/general/2022/11/04/thumbnail-h-20221104163557-3453.jpg',\n",
       "     'rel': 'enclosure'}],\n",
       "   'link': 'https://tech.liga.net/ukraine/novosti/diplomy-i-shkolnye-attestaty-poyavyatsya-v-prilojenii-diya',\n",
       "   'summary': 'Команда Минцифры уже работает над экспериментальной услугой – Документом об образовании',\n",
       "   'summary_detail': {'type': 'text/html',\n",
       "    'language': None,\n",
       "    'base': 'https://www.liga.net/tech/all/rss.xml',\n",
       "    'value': 'Команда Минцифры уже работает над экспериментальной услугой – Документом об образовании'},\n",
       "   'published': 'Fri, 04 Nov 2022 16:20:16 +0200',\n",
       "   'published_parsed': time.struct_time(tm_year=2022, tm_mon=11, tm_mday=4, tm_hour=14, tm_min=20, tm_sec=16, tm_wday=4, tm_yday=308, tm_isdst=0),\n",
       "   'id': 'https://tech.liga.net/ukraine/novosti/diplomy-i-shkolnye-attestaty-poyavyatsya-v-prilojenii-diya',\n",
       "   'guidislink': False},\n",
       "  {'title': 'Samsung выпустил новый ролик, где троллит Apple за отсутствие новых идей',\n",
       "   'title_detail': {'type': 'text/plain',\n",
       "    'language': None,\n",
       "    'base': 'https://www.liga.net/tech/all/rss.xml',\n",
       "    'value': 'Samsung выпустил новый ролик, где троллит Apple за отсутствие новых идей'},\n",
       "   'links': [{'rel': 'alternate',\n",
       "     'type': 'text/html',\n",
       "     'href': 'https://tech.liga.net/gadgets/novosti/samsung-vypustil-novyy-rolik-gde-trolit-apple-za-otsutstvie-novyh-idey'},\n",
       "    {'length': '13909',\n",
       "     'type': 'image/jpg',\n",
       "     'href': 'https://www.liga.net/images/general/2022/11/04/thumbnail-h-20221104155822-1475.jpg',\n",
       "     'rel': 'enclosure'}],\n",
       "   'link': 'https://tech.liga.net/gadgets/novosti/samsung-vypustil-novyy-rolik-gde-trolit-apple-za-otsutstvie-novyh-idey',\n",
       "   'summary': 'В ролике мы видим пользователя гаджетов Apple, сидящего на ограждении и планирующего перейти на сторону Samsung',\n",
       "   'summary_detail': {'type': 'text/html',\n",
       "    'language': None,\n",
       "    'base': 'https://www.liga.net/tech/all/rss.xml',\n",
       "    'value': 'В ролике мы видим пользователя гаджетов Apple, сидящего на ограждении и планирующего перейти на сторону Samsung'},\n",
       "   'published': 'Fri, 04 Nov 2022 15:58:18 +0200',\n",
       "   'published_parsed': time.struct_time(tm_year=2022, tm_mon=11, tm_mday=4, tm_hour=13, tm_min=58, tm_sec=18, tm_wday=4, tm_yday=308, tm_isdst=0),\n",
       "   'id': 'https://tech.liga.net/gadgets/novosti/samsung-vypustil-novyy-rolik-gde-trolit-apple-za-otsutstvie-novyh-idey',\n",
       "   'guidislink': False},\n",
       "  {'title': 'Кино и музыка во время блекаута. Как пользоваться Netflix, Spotify и YouTube офлайн',\n",
       "   'title_detail': {'type': 'text/plain',\n",
       "    'language': None,\n",
       "    'base': 'https://www.liga.net/tech/all/rss.xml',\n",
       "    'value': 'Кино и музыка во время блекаута. Как пользоваться Netflix, Spotify и YouTube офлайн'},\n",
       "   'links': [{'rel': 'alternate',\n",
       "     'type': 'text/html',\n",
       "     'href': 'https://tech.liga.net/other/article/netflix-spotify-i-youtube-mojno-ispolzovat-oflayn-kak-eto-delat-instruktsiya'},\n",
       "    {'length': '11590',\n",
       "     'type': 'image/jpg',\n",
       "     'href': 'https://www.liga.net/images/general/2022/11/04/thumbnail-h-20221104140600-6282.jpg',\n",
       "     'rel': 'enclosure'}],\n",
       "   'link': 'https://tech.liga.net/other/article/netflix-spotify-i-youtube-mojno-ispolzovat-oflayn-kak-eto-delat-instruktsiya',\n",
       "   'summary': 'Во время блекаута не работает интернет и телевизор, но все будет в порядке, если загрузить сериалы и музыку со стримингов заранее',\n",
       "   'summary_detail': {'type': 'text/html',\n",
       "    'language': None,\n",
       "    'base': 'https://www.liga.net/tech/all/rss.xml',\n",
       "    'value': 'Во время блекаута не работает интернет и телевизор, но все будет в порядке, если загрузить сериалы и музыку со стримингов заранее'},\n",
       "   'published': 'Fri, 04 Nov 2022 14:18:41 +0200',\n",
       "   'published_parsed': time.struct_time(tm_year=2022, tm_mon=11, tm_mday=4, tm_hour=12, tm_min=18, tm_sec=41, tm_wday=4, tm_yday=308, tm_isdst=0),\n",
       "   'id': 'https://tech.liga.net/other/article/netflix-spotify-i-youtube-mojno-ispolzovat-oflayn-kak-eto-delat-instruktsiya',\n",
       "   'guidislink': False},\n",
       "  {'title': 'Сотрудники Twitter подали в суд на компанию из-за массовых увольнений',\n",
       "   'title_detail': {'type': 'text/plain',\n",
       "    'language': None,\n",
       "    'base': 'https://www.liga.net/tech/all/rss.xml',\n",
       "    'value': 'Сотрудники Twitter подали в суд на компанию из-за массовых увольнений'},\n",
       "   'links': [{'rel': 'alternate',\n",
       "     'type': 'text/html',\n",
       "     'href': 'https://tech.liga.net/other/novosti/sotrudniki-twitter-podali-v-sud-na-kompaniyu-iz-za-massovyh-uvolneniy'},\n",
       "    {'length': '13514',\n",
       "     'type': 'image/jpg',\n",
       "     'href': 'https://www.liga.net/images/general/2022/11/03/thumbnail-h-20221103104619-3954.jpg',\n",
       "     'rel': 'enclosure'}],\n",
       "   'link': 'https://tech.liga.net/other/novosti/sotrudniki-twitter-podali-v-sud-na-kompaniyu-iz-za-massovyh-uvolneniy',\n",
       "   'summary': 'Они утверждают, что массовые увольнения противоречат закону США',\n",
       "   'summary_detail': {'type': 'text/html',\n",
       "    'language': None,\n",
       "    'base': 'https://www.liga.net/tech/all/rss.xml',\n",
       "    'value': 'Они утверждают, что массовые увольнения противоречат закону США'},\n",
       "   'published': 'Fri, 04 Nov 2022 13:11:46 +0200',\n",
       "   'published_parsed': time.struct_time(tm_year=2022, tm_mon=11, tm_mday=4, tm_hour=11, tm_min=11, tm_sec=46, tm_wday=4, tm_yday=308, tm_isdst=0),\n",
       "   'id': 'https://tech.liga.net/other/novosti/sotrudniki-twitter-podali-v-sud-na-kompaniyu-iz-za-massovyh-uvolneniy',\n",
       "   'guidislink': False},\n",
       "  {'title': 'Обломки ракеты \"Чанчжэн-5Б\" в пятницу будут угрожать жителям Америки, Африки и Австралии',\n",
       "   'title_detail': {'type': 'text/plain',\n",
       "    'language': None,\n",
       "    'base': 'https://www.liga.net/tech/all/rss.xml',\n",
       "    'value': 'Обломки ракеты \"Чанчжэн-5Б\" в пятницу будут угрожать жителям Америки, Африки и Австралии'},\n",
       "   'links': [{'rel': 'alternate',\n",
       "     'type': 'text/html',\n",
       "     'href': 'https://tech.liga.net/other/novosti/oblomki-rakety-chanchjen-5b-v-pyatnitsu-budut-ugrojat-jitelyam-ameriki-afriki-i-avstralii'},\n",
       "    {'length': '7943',\n",
       "     'type': 'image/jpg',\n",
       "     'href': 'https://www.liga.net/images/general/2021/04/06/thumbnail-h-20210406141853-2544.jpg',\n",
       "     'rel': 'enclosure'}],\n",
       "   'link': 'https://tech.liga.net/other/novosti/oblomki-rakety-chanchjen-5b-v-pyatnitsu-budut-ugrojat-jitelyam-ameriki-afriki-i-avstralii',\n",
       "   'summary': 'Обломки 21-тонной китайской ракеты \"Чанчжэн-5Б\" могут упасть на Землю в пятницу, 4 ноября',\n",
       "   'summary_detail': {'type': 'text/html',\n",
       "    'language': None,\n",
       "    'base': 'https://www.liga.net/tech/all/rss.xml',\n",
       "    'value': 'Обломки 21-тонной китайской ракеты \"Чанчжэн-5Б\" могут упасть на Землю в пятницу, 4 ноября'},\n",
       "   'published': 'Fri, 04 Nov 2022 10:37:19 +0200',\n",
       "   'published_parsed': time.struct_time(tm_year=2022, tm_mon=11, tm_mday=4, tm_hour=8, tm_min=37, tm_sec=19, tm_wday=4, tm_yday=308, tm_isdst=0),\n",
       "   'id': 'https://tech.liga.net/other/novosti/oblomki-rakety-chanchjen-5b-v-pyatnitsu-budut-ugrojat-jitelyam-ameriki-afriki-i-avstralii',\n",
       "   'guidislink': False},\n",
       "  {'title': 'На орбиту отправят 3D-принтер, который будет печатать колени для американских солдат',\n",
       "   'title_detail': {'type': 'text/plain',\n",
       "    'language': None,\n",
       "    'base': 'https://www.liga.net/tech/all/rss.xml',\n",
       "    'value': 'На орбиту отправят 3D-принтер, который будет печатать колени для американских солдат'},\n",
       "   'links': [{'rel': 'alternate',\n",
       "     'type': 'text/html',\n",
       "     'href': 'https://tech.liga.net/technology/novosti/na-orbitu-otpravyat-3d-printer-kotoryy-budet-pechatat-koleni-dlya-amerikanskih-soldat'},\n",
       "    {'length': '8623',\n",
       "     'type': 'image/jpg',\n",
       "     'href': 'https://www.liga.net/images/general/2021/11/16/thumbnail-h-20211116184200-1886.jpg',\n",
       "     'rel': 'enclosure'}],\n",
       "   'link': 'https://tech.liga.net/technology/novosti/na-orbitu-otpravyat-3d-printer-kotoryy-budet-pechatat-koleni-dlya-amerikanskih-soldat',\n",
       "   'summary': 'Цель этих исследований – лечить повреждение мениска, с которым часто сталкиваются американские солдаты',\n",
       "   'summary_detail': {'type': 'text/html',\n",
       "    'language': None,\n",
       "    'base': 'https://www.liga.net/tech/all/rss.xml',\n",
       "    'value': 'Цель этих исследований – лечить повреждение мениска, с которым часто сталкиваются американские солдаты'},\n",
       "   'published': 'Fri, 04 Nov 2022 10:19:51 +0200',\n",
       "   'published_parsed': time.struct_time(tm_year=2022, tm_mon=11, tm_mday=4, tm_hour=8, tm_min=19, tm_sec=51, tm_wday=4, tm_yday=308, tm_isdst=0),\n",
       "   'id': 'https://tech.liga.net/technology/novosti/na-orbitu-otpravyat-3d-printer-kotoryy-budet-pechatat-koleni-dlya-amerikanskih-soldat',\n",
       "   'guidislink': False}],\n",
       " 'feed': {'title': 'ЛІГА.Tech',\n",
       "  'title_detail': {'type': 'text/plain',\n",
       "   'language': None,\n",
       "   'base': 'https://www.liga.net/tech/all/rss.xml',\n",
       "   'value': 'ЛІГА.Tech'},\n",
       "  'links': [{'rel': 'alternate',\n",
       "    'type': 'text/html',\n",
       "    'href': 'https://www.liga.net'}],\n",
       "  'link': 'https://www.liga.net',\n",
       "  'language': 'ru',\n",
       "  'image': {'title': 'ЛІГА.Tech',\n",
       "   'title_detail': {'type': 'text/plain',\n",
       "    'language': None,\n",
       "    'base': 'https://www.liga.net/tech/all/rss.xml',\n",
       "    'value': 'ЛІГА.Tech'},\n",
       "   'links': [{'rel': 'alternate',\n",
       "     'type': 'text/html',\n",
       "     'href': 'https://www.liga.net'}],\n",
       "   'link': 'https://www.liga.net',\n",
       "   'href': 'http://www.liga.net/design/images/ligalogo/liga-tech.svg'},\n",
       "  'updated': 'Tue, 08 Nov 2022 09:35:12 +0200',\n",
       "  'updated_parsed': time.struct_time(tm_year=2022, tm_mon=11, tm_mday=8, tm_hour=7, tm_min=35, tm_sec=12, tm_wday=1, tm_yday=312, tm_isdst=0),\n",
       "  'published': 'Tue, 08 Nov 2022 09:35:00 +0200',\n",
       "  'published_parsed': time.struct_time(tm_year=2022, tm_mon=11, tm_mday=8, tm_hour=7, tm_min=35, tm_sec=0, tm_wday=1, tm_yday=312, tm_isdst=0)},\n",
       " 'headers': {'date': 'Tue, 08 Nov 2022 07:35:17 GMT',\n",
       "  'content-type': 'text/xml; charset=utf-8',\n",
       "  'transfer-encoding': 'chunked',\n",
       "  'connection': 'close',\n",
       "  'vary': 'Accept-Encoding',\n",
       "  'strict-transport-security': 'max-age=15768000',\n",
       "  'cache-control': 'max-age=60',\n",
       "  'content-encoding': 'gzip',\n",
       "  'cf-cache-status': 'DYNAMIC',\n",
       "  'set-cookie': '__cf_bm=dp5Z0r_P_fL3QSZLUt3W_gO.sMBmgXXzHISMmxhnfps-1667892917-0-AVeaWpOXa63nxZfiHPNVjRgO2OtOqRKMp5mMhC6UKVfWmmAKsOcBuuhvtqAX0qk+q4jtdUDIp0gRKD3nEwSXCy8=; path=/; expires=Tue, 08-Nov-22 08:05:17 GMT; domain=.liga.net; HttpOnly; Secure; SameSite=None',\n",
       "  'server-timing': 'cf-q-config;dur=7.9999736044556e-06',\n",
       "  'server': 'cloudflare',\n",
       "  'cf-ray': '766ca190bd54902e-FRA'},\n",
       " 'href': 'https://www.liga.net/tech/all/rss.xml',\n",
       " 'status': 200,\n",
       " 'encoding': 'utf-8',\n",
       " 'version': 'rss20',\n",
       " 'namespaces': {}}"
      ]
     },
     "execution_count": 10,
     "metadata": {},
     "output_type": "execute_result"
    }
   ],
   "source": [
    "import feedparser\n",
    "feed = feedparser.parse(\"https://www.liga.net/tech/all/rss.xml\")\n",
    "\n",
    "feed"
   ]
  }
 ],
 "metadata": {
  "kernelspec": {
   "display_name": "Python 3 (ipykernel)",
   "language": "python",
   "name": "python3"
  },
  "language_info": {
   "codemirror_mode": {
    "name": "ipython",
    "version": 3
   },
   "file_extension": ".py",
   "mimetype": "text/x-python",
   "name": "python",
   "nbconvert_exporter": "python",
   "pygments_lexer": "ipython3",
   "version": "3.9.13"
  }
 },
 "nbformat": 4,
 "nbformat_minor": 5
}
